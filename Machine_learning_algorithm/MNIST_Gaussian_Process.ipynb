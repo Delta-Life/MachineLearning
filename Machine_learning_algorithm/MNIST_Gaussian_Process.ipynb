{
 "cells": [
  {
   "cell_type": "code",
   "execution_count": 1,
   "id": "7a1685fd",
   "metadata": {
    "id": "7a1685fd"
   },
   "outputs": [],
   "source": [
    "import pickle\n",
    "#import pickle5 as pickle # colab\n",
    "import numpy as np\n",
    "from lifelines.utils import concordance_index\n",
    "# import urllib\n",
    "import urllib.request\n"
   ]
  },
  {
   "cell_type": "code",
   "execution_count": 5,
   "id": "192603de",
   "metadata": {
    "colab": {
     "base_uri": "https://localhost:8080/",
     "height": 248
    },
    "id": "192603de",
    "outputId": "b54b625a-ea0b-4b9a-b168-3c05d4d036c8"
   },
   "outputs": [],
   "source": [
    "with open('Regression_Dataset1', 'rb') as handle:\n",
    "    data = pickle.load(handle)\n",
    "    y = pickle.load(handle)\n",
    "    testdata = pickle.load(handle)\n",
    "    testy = pickle.load(handle)\n",
    "\n",
    "#target_url = 'http://aais.hanyang.ac.kr/classes/2022_Datasets/Regression_Dataset1'\n",
    "#with urllib.request.urlopen(target_url) as handle:\n",
    "#    data = pickle.load(handle)\n",
    "#    y = pickle.load(handle)\n",
    "#    testdata = pickle.load(handle)\n",
    "#    testy = pickle.load(handle)\n",
    "\n",
    "data_num = 20000\n",
    "\n",
    "data = data[:data_num]\n",
    "y = y[:data_num]\n",
    "testdata = testdata[:data_num]\n",
    "testy = testy[:data_num]"
   ]
  },
  {
   "cell_type": "code",
   "execution_count": 38,
   "id": "051c7314",
   "metadata": {},
   "outputs": [],
   "source": [
    "def polynomial_kernel(X, Y):\n",
    "    K = np.matmul(X, Y.T) + 11\n",
    "    K = K**2\n",
    "    return K**2"
   ]
  },
  {
   "cell_type": "code",
   "execution_count": 39,
   "id": "4338f72e",
   "metadata": {},
   "outputs": [
    {
     "name": "stdout",
     "output_type": "stream",
     "text": [
      "test CI: 0.9554453349753099\n"
     ]
    }
   ],
   "source": [
    "k = polynomial_kernel(data, testdata)\n",
    "K = polynomial_kernel(data, data)\n",
    "invK = np.linalg.inv(K)\n",
    "pred_y = np.matmul(np.matmul(k.T, invK), y).T\n",
    "print('test CI:', concordance_index(testy, pred_y))"
   ]
  }
 ],
 "metadata": {
  "colab": {
   "name": "Bayesian_Regression_Data_load_student.ipynb",
   "provenance": []
  },
  "kernelspec": {
   "display_name": "Python 3 (ipykernel)",
   "language": "python",
   "name": "python3"
  },
  "language_info": {
   "codemirror_mode": {
    "name": "ipython",
    "version": 3
   },
   "file_extension": ".py",
   "mimetype": "text/x-python",
   "name": "python",
   "nbconvert_exporter": "python",
   "pygments_lexer": "ipython3",
   "version": "3.9.7"
  }
 },
 "nbformat": 4,
 "nbformat_minor": 5
}
