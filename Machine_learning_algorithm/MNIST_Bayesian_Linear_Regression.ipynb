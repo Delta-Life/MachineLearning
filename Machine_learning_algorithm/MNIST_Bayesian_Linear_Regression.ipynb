{
 "cells": [
  {
   "cell_type": "code",
   "execution_count": 1,
   "id": "7a1685fd",
   "metadata": {
    "id": "7a1685fd"
   },
   "outputs": [],
   "source": [
    "import pickle\n",
    "#import pickle5 as pickle # colab\n",
    "import numpy as np\n",
    "from lifelines.utils import concordance_index\n",
    "# import urllib\n",
    "import urllib.request"
   ]
  },
  {
   "cell_type": "code",
   "execution_count": 2,
   "id": "192603de",
   "metadata": {
    "colab": {
     "base_uri": "https://localhost:8080/",
     "height": 248
    },
    "id": "192603de",
    "outputId": "b54b625a-ea0b-4b9a-b168-3c05d4d036c8"
   },
   "outputs": [],
   "source": [
    "with open('Regression_Dataset1', 'rb') as handle:\n",
    "    data = pickle.load(handle)\n",
    "    y = pickle.load(handle)\n",
    "    testdata = pickle.load(handle)\n",
    "    testy = pickle.load(handle)\n",
    "\n",
    "#target_url = 'http://aais.hanyang.ac.kr/classes/2022_Datasets/Regression_Dataset1'\n",
    "#with urllib.request.urlopen(target_url) as handle:\n",
    "#    data = pickle.load(handle)\n",
    "#    y = pickle.load(handle)\n",
    "#    testdata = pickle.load(handle)\n",
    "#    testy = pickle.load(handle)"
   ]
  },
  {
   "cell_type": "code",
   "execution_count": 3,
   "id": "5c916b86",
   "metadata": {},
   "outputs": [
    {
     "data": {
      "text/plain": [
       "(60000, 12403)"
      ]
     },
     "execution_count": 3,
     "metadata": {},
     "output_type": "execute_result"
    }
   ],
   "source": [
    "data = np.max(data.reshape(60000, -1, 5), axis=(2)) # Max poolnig\n",
    "data = np.column_stack([data*data]+[2*data[:, :-i]*data[:, i:] for i in range(1, 157)]) # phi mapping\n",
    "testdata = np.max(testdata.reshape(60000, -1, 5), axis=(2)) # Max pooling\n",
    "testdata = np.column_stack([testdata*testdata]+[2*testdata[:, :-i]*testdata[:, i:] for i in range(1, 157)]) # phi mapping\n",
    "data.shape"
   ]
  },
  {
   "cell_type": "code",
   "execution_count": 4,
   "id": "ac050980",
   "metadata": {
    "id": "ac050980"
   },
   "outputs": [],
   "source": [
    "XXT = np.matmul(data.T, data)\n",
    "Xy = np.matmul(data.T, y)\n",
    "\n",
    "sigma_sq = 1\n",
    "sigma_sq0 = 5\n",
    "invXXT = np.linalg.inv(XXT + sigma_sq/sigma_sq0*np.eye(len(XXT)))"
   ]
  },
  {
   "cell_type": "code",
   "execution_count": 5,
   "id": "e9530da3",
   "metadata": {
    "id": "e9530da3"
   },
   "outputs": [
    {
     "name": "stdout",
     "output_type": "stream",
     "text": [
      "[2 4 1 ... 8 7 6] \n",
      " [2.80392022 2.83231369 0.64666128 ... 5.75977757 7.55952277 6.05205954]\n",
      "CI: 0.9402119047482952\n",
      "\n",
      "\n",
      "[5 0 9 ... 3 1 6] \n",
      " [ 6.87638784 -0.36992336  8.72606538 ...  4.02446954  1.03844967\n",
      "  3.33548937]\n",
      "test CI: 0.9172335128688842\n"
     ]
    }
   ],
   "source": [
    "pred_y = np.matmul(data, np.matmul(invXXT, Xy))\n",
    "print(y, '\\n', pred_y)\n",
    "print('CI:', concordance_index(y, pred_y))\n",
    "print('\\n')\n",
    "\n",
    "pred_y = np.matmul(testdata, np.matmul(invXXT, Xy))\n",
    "print(testy, '\\n', pred_y)\n",
    "print('test CI:', concordance_index(testy, pred_y))"
   ]
  }
 ],
 "metadata": {
  "colab": {
   "name": "Bayesian_Regression_Data_load_student.ipynb",
   "provenance": []
  },
  "kernelspec": {
   "display_name": "Python 3 (ipykernel)",
   "language": "python",
   "name": "python3"
  },
  "language_info": {
   "codemirror_mode": {
    "name": "ipython",
    "version": 3
   },
   "file_extension": ".py",
   "mimetype": "text/x-python",
   "name": "python",
   "nbconvert_exporter": "python",
   "pygments_lexer": "ipython3",
   "version": "3.9.7"
  }
 },
 "nbformat": 4,
 "nbformat_minor": 5
}
