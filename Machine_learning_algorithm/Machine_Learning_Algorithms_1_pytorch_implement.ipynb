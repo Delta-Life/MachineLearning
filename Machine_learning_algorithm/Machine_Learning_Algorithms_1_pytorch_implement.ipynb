{
  "cells": [
    {
      "cell_type": "markdown",
      "id": "4e146883",
      "metadata": {
        "id": "4e146883"
      },
      "source": [
        "### Logistic Regression\n"
      ]
    },
    {
      "cell_type": "code",
      "execution_count": 1,
      "id": "795229b1",
      "metadata": {
        "id": "795229b1"
      },
      "outputs": [],
      "source": [
        "import numpy as np\n",
        "import matplotlib.pyplot as plt"
      ]
    },
    {
      "cell_type": "code",
      "execution_count": 2,
      "id": "ca6e0de7",
      "metadata": {
        "id": "ca6e0de7"
      },
      "outputs": [],
      "source": [
        "def draw_state(wval, bval, data1, data2, title_str='Data'):\n",
        "    # function for scattering data and drawing classification boundary\n",
        "    # wx - b > 0 or  wx - b < 0\n",
        "    \n",
        "    # create a figure and axis\n",
        "    fig, ax = plt.subplots()\n",
        "\n",
        "    # Scatter data points in 2-dimensional space\n",
        "    ax.scatter(data1[:,0], data1[:,1], label='class 1', c='red', alpha=.3)\n",
        "    ax.scatter(data2[:,0], data2[:,1], label='class 2', marker='^', c='blue', alpha=.3)\n",
        "    # set a title and labels\n",
        "    ax.set_title(title_str)\n",
        "    ax.legend()\n",
        "    \n",
        "    [x1min,x1max,x2min,x2max] = ax.axis()\n",
        "    x1vals = np.arange(x1min,x1max,0.1)\n",
        "    ax.plot(x1vals, (-wval[0]*x1vals + bval)/wval[1], 'k')\n",
        "    ax.axis([x1min,x1max,x2min,x2max])\n",
        "    ax.grid()"
      ]
    },
    {
      "cell_type": "code",
      "execution_count": 3,
      "id": "f1c33b30",
      "metadata": {
        "id": "f1c33b30"
      },
      "outputs": [],
      "source": [
        "def logistic_function(t):\n",
        "    # example: logistic_function(np.array([0,1,2]))\n",
        "    \n",
        "    ret_val = 1/(1 + np.exp(-t))\n",
        "    return ret_val"
      ]
    },
    {
      "cell_type": "code",
      "execution_count": 4,
      "id": "c71e85cb",
      "metadata": {
        "id": "c71e85cb"
      },
      "outputs": [],
      "source": [
        "def get_loss(labels, fs):\n",
        "    loss_val = np.sum(labels*np.log(fs) + (1 - labels)*np.log(1 - fs))\n",
        "    return loss_val"
      ]
    },
    {
      "cell_type": "markdown",
      "id": "af7b2c1b",
      "metadata": {
        "id": "af7b2c1b"
      },
      "source": [
        "### Data generation"
      ]
    },
    {
      "cell_type": "code",
      "execution_count": 5,
      "id": "7dee6bf6",
      "metadata": {
        "id": "7dee6bf6"
      },
      "outputs": [],
      "source": [
        "# generate two Gaussians (class 1 & class 2)\n",
        "dim = 2\n",
        "datanum1 = 50\n",
        "datanum2 = 50\n",
        "mean1 = np.array([0, 0])\n",
        "mean2 = np.array([1, -.5])\n",
        "cov1 = np.array([[.1,.02],[.02,.1]])\n",
        "cov2 = np.array([[.1,.02],[.02,.1]])\n",
        "data1 = np.random.multivariate_normal(mean1, cov1, datanum1)\n",
        "data2 = np.random.multivariate_normal(mean2, cov2, datanum2)\n",
        "tstdatanum1 = 100\n",
        "tstdatanum2 = 100\n",
        "tstdata1 = np.random.multivariate_normal(mean1, cov1, tstdatanum1)\n",
        "tstdata2 = np.random.multivariate_normal(mean2, cov2, tstdatanum2)"
      ]
    },
    {
      "cell_type": "markdown",
      "source": [
        "##Pytrch Implementation\n",
        "\n",
        "Dates: 2022-3-12\n",
        "\n",
        "Author: Iljung Kim"
      ],
      "metadata": {
        "id": "HcXl1Blzbxx8"
      },
      "id": "HcXl1Blzbxx8"
    },
    {
      "cell_type": "code",
      "source": [
        "import torch\n",
        "import torch.nn as nn\n",
        "\n",
        "import torch.optim as optim"
      ],
      "metadata": {
        "id": "WWR4Dyzhbw1E"
      },
      "id": "WWR4Dyzhbw1E",
      "execution_count": 6,
      "outputs": []
    },
    {
      "cell_type": "code",
      "source": [
        "class logistic_regression(nn.Module):\n",
        "    def __init__(self):\n",
        "        super(logistic_regression, self).__init__()\n",
        "        self.logistic_regression = nn.Sequential(\n",
        "            nn.Linear(2, 1),\n",
        "            nn.Sigmoid()\n",
        "        )\n",
        "      \n",
        "    def forward(self, x):\n",
        "      x = self.logistic_regression(x)\n",
        "      return x"
      ],
      "metadata": {
        "id": "IjI95awRF0Uh"
      },
      "id": "IjI95awRF0Uh",
      "execution_count": 7,
      "outputs": []
    },
    {
      "cell_type": "code",
      "source": [
        "torch_model = logistic_regression().cuda()\n",
        "criterion = nn.BCELoss()\n",
        "optimizer = torch.optim.SGD(torch_model.parameters(), lr=0.1, )"
      ],
      "metadata": {
        "id": "QD_2grIIGpt2"
      },
      "id": "QD_2grIIGpt2",
      "execution_count": 8,
      "outputs": []
    },
    {
      "cell_type": "code",
      "source": [
        "x_train = np.concatenate((data1, data2), axis=0)\n",
        "y_train = np.concatenate((np.ones(datanum1), np.zeros(datanum2)))  # label of class 1: 1, label of class 2: 0\n",
        "x_test = np.concatenate((tstdata1, tstdata2), axis=0)\n",
        "y_test = np.concatenate((np.ones(tstdatanum1), np.zeros(tstdatanum2)))\n"
      ],
      "metadata": {
        "id": "2YB8ox53TdkT"
      },
      "id": "2YB8ox53TdkT",
      "execution_count": 9,
      "outputs": []
    },
    {
      "cell_type": "code",
      "source": [
        "x_train_tensor = torch.tensor(x_train, dtype=torch.float).cuda()\n",
        "y_train_tensor = torch.tensor(y_train, dtype=torch.float).view(-1, 1).cuda()\n",
        "x_test_tensor = torch.tensor(x_test, dtype=torch.float).cuda()\n",
        "y_test_tensor = torch.tensor(y_test, dtype=torch.float).view(-1, 1).cuda()"
      ],
      "metadata": {
        "id": "CTvkIh2oISZ7"
      },
      "id": "CTvkIh2oISZ7",
      "execution_count": 10,
      "outputs": []
    },
    {
      "cell_type": "code",
      "source": [
        "list(torch_model.parameters())"
      ],
      "metadata": {
        "colab": {
          "base_uri": "https://localhost:8080/"
        },
        "id": "uXkJIEExY6gM",
        "outputId": "b63cba8e-13d4-42ac-c4a2-eea1e30ecc5b"
      },
      "id": "uXkJIEExY6gM",
      "execution_count": 11,
      "outputs": [
        {
          "output_type": "execute_result",
          "data": {
            "text/plain": [
              "[Parameter containing:\n",
              " tensor([[ 0.6182, -0.1981]], device='cuda:0', requires_grad=True),\n",
              " Parameter containing:\n",
              " tensor([0.2389], device='cuda:0', requires_grad=True)]"
            ]
          },
          "metadata": {},
          "execution_count": 11
        }
      ]
    },
    {
      "cell_type": "code",
      "source": [
        "init_w = list(torch_model.parameters())[0].detach().cpu().numpy()[0]\n",
        "init_b = -list(torch_model.parameters())[1].item()\n",
        "draw_state(init_w, init_b, data1, data2, 'Data and optimal boundary')"
      ],
      "metadata": {
        "colab": {
          "base_uri": "https://localhost:8080/",
          "height": 281
        },
        "id": "zPmPCTlMTpcH",
        "outputId": "73244ba0-3495-4283-d9e6-f2d173e20a43"
      },
      "id": "zPmPCTlMTpcH",
      "execution_count": 12,
      "outputs": [
        {
          "output_type": "display_data",
          "data": {
            "text/plain": [
              "<Figure size 432x288 with 1 Axes>"
            ],
            "image/png": "[encoded data removed]"
          },
          "metadata": {
            "needs_background": "light"
          }
        }
      ]
    },
    {
      "cell_type": "code",
      "source": [
        "import time\n",
        "\n",
        "start_time = time.time()\n",
        "train_history = []\n",
        "test_history = []\n",
        "\n",
        "n_epochs = 500\n",
        "for epoch in range(0, n_epochs):\n",
        "    output = torch_model(x_train_tensor)\n",
        "    train_loss = criterion(output, y_train_tensor)\n",
        "    train_history.append(train_loss.item())\n",
        "\n",
        "    optimizer.zero_grad()\n",
        "    train_loss.backward()\n",
        "    optimizer.step()\n",
        "\n",
        "    with torch.no_grad():\n",
        "        output = torch_model(x_test_tensor)\n",
        "        test_loss = criterion(output, y_test_tensor)\n",
        "        test_history.append(test_loss.item())\n",
        "\n",
        "    \n",
        "    print(f'[Epoch {epoch + 1:3d}/{n_epochs}] [Train loss: {train_loss.item():.6f}] [Test loss: {test_loss.item():.6f}] [Elapsed time: {time.time() - start_time:.2f}s]')"
      ],
      "metadata": {
        "colab": {
          "base_uri": "https://localhost:8080/"
        },
        "id": "pTvCsnmOHBHY",
        "outputId": "70ca75f6-8da9-4da0-9d8c-210c8f5782d9"
      },
      "id": "pTvCsnmOHBHY",
      "execution_count": 13,
      "outputs": [
        {
          "output_type": "stream",
          "name": "stdout",
          "text": [
            "[Epoch   1/500] [Train loss: 0.928636] [Test loss: 0.910122] [Elapsed time: 0.09s]\n",
            "[Epoch   2/500] [Train loss: 0.910299] [Test loss: 0.892822] [Elapsed time: 0.09s]\n",
            "[Epoch   3/500] [Train loss: 0.892783] [Test loss: 0.876283] [Elapsed time: 0.09s]\n",
            "[Epoch   4/500] [Train loss: 0.876062] [Test loss: 0.860479] [Elapsed time: 0.09s]\n",
            "[Epoch   5/500] [Train loss: 0.860106] [Test loss: 0.845379] [Elapsed time: 0.10s]\n",
            "[Epoch   6/500] [Train loss: 0.844885] [Test loss: 0.830957] [Elapsed time: 0.10s]\n",
            "[Epoch   7/500] [Train loss: 0.830370] [Test loss: 0.817182] [Elapsed time: 0.10s]\n",
            "[Epoch   8/500] [Train loss: 0.816528] [Test loss: 0.804025] [Elapsed time: 0.10s]\n",
            "[Epoch   9/500] [Train loss: 0.803330] [Test loss: 0.791457] [Elapsed time: 0.10s]\n",
            "[Epoch  10/500] [Train loss: 0.790743] [Test loss: 0.779449] [Elapsed time: 0.10s]\n",
            "[Epoch  11/500] [Train loss: 0.778737] [Test loss: 0.767971] [Elapsed time: 0.11s]\n",
            "[Epoch  12/500] [Train loss: 0.767282] [Test loss: 0.756997] [Elapsed time: 0.11s]\n",
            "[Epoch  13/500] [Train loss: 0.756347] [Test loss: 0.746498] [Elapsed time: 0.11s]\n",
            "[Epoch  14/500] [Train loss: 0.745905] [Test loss: 0.736449] [Elapsed time: 0.11s]\n",
            "[Epoch  15/500] [Train loss: 0.735928] [Test loss: 0.726824] [Elapsed time: 0.11s]\n",
            "[Epoch  16/500] [Train loss: 0.726388] [Test loss: 0.717599] [Elapsed time: 0.12s]\n",
            "[Epoch  17/500] [Train loss: 0.717260] [Test loss: 0.708750] [Elapsed time: 0.12s]\n",
            "[Epoch  18/500] [Train loss: 0.708520] [Test loss: 0.700257] [Elapsed time: 0.12s]\n",
            "[Epoch  19/500] [Train loss: 0.700144] [Test loss: 0.692097] [Elapsed time: 0.12s]\n",
            "[Epoch  20/500] [Train loss: 0.692111] [Test loss: 0.684251] [Elapsed time: 0.12s]\n",
            "[Epoch  21/500] [Train loss: 0.684399] [Test loss: 0.676700] [Elapsed time: 0.13s]\n",
            "[Epoch  22/500] [Train loss: 0.676988] [Test loss: 0.669426] [Elapsed time: 0.13s]\n",
            "[Epoch  23/500] [Train loss: 0.669861] [Test loss: 0.662414] [Elapsed time: 0.13s]\n",
            "[Epoch  24/500] [Train loss: 0.663000] [Test loss: 0.655647] [Elapsed time: 0.13s]\n",
            "[Epoch  25/500] [Train loss: 0.656387] [Test loss: 0.649110] [Elapsed time: 0.13s]\n",
            "[Epoch  26/500] [Train loss: 0.650009] [Test loss: 0.642791] [Elapsed time: 0.13s]\n",
            "[Epoch  27/500] [Train loss: 0.643851] [Test loss: 0.636675] [Elapsed time: 0.14s]\n",
            "[Epoch  28/500] [Train loss: 0.637899] [Test loss: 0.630753] [Elapsed time: 0.14s]\n",
            "[Epoch  29/500] [Train loss: 0.632140] [Test loss: 0.625011] [Elapsed time: 0.14s]\n",
            "[Epoch  30/500] [Train loss: 0.626564] [Test loss: 0.619440] [Elapsed time: 0.14s]\n",
            "[Epoch  31/500] [Train loss: 0.621160] [Test loss: 0.614030] [Elapsed time: 0.14s]\n",
            "[Epoch  32/500] [Train loss: 0.615916] [Test loss: 0.608773] [Elapsed time: 0.15s]\n",
            "[Epoch  33/500] [Train loss: 0.610825] [Test loss: 0.603659] [Elapsed time: 0.15s]\n",
            "[Epoch  34/500] [Train loss: 0.605877] [Test loss: 0.598681] [Elapsed time: 0.15s]\n",
            "[Epoch  35/500] [Train loss: 0.601063] [Test loss: 0.593831] [Elapsed time: 0.15s]\n",
            "[Epoch  36/500] [Train loss: 0.596378] [Test loss: 0.589104] [Elapsed time: 0.16s]\n",
            "[Epoch  37/500] [Train loss: 0.591812] [Test loss: 0.584492] [Elapsed time: 0.16s]\n",
            "[Epoch  38/500] [Train loss: 0.587361] [Test loss: 0.579989] [Elapsed time: 0.16s]\n",
            "[Epoch  39/500] [Train loss: 0.583018] [Test loss: 0.575591] [Elapsed time: 0.16s]\n",
            "[Epoch  40/500] [Train loss: 0.578777] [Test loss: 0.571292] [Elapsed time: 0.16s]\n",
            "[Epoch  41/500] [Train loss: 0.574633] [Test loss: 0.567087] [Elapsed time: 0.17s]\n",
            "[Epoch  42/500] [Train loss: 0.570581] [Test loss: 0.562972] [Elapsed time: 0.17s]\n",
            "[Epoch  43/500] [Train loss: 0.566617] [Test loss: 0.558943] [Elapsed time: 0.17s]\n",
            "[Epoch  44/500] [Train loss: 0.562736] [Test loss: 0.554996] [Elapsed time: 0.17s]\n",
            "[Epoch  45/500] [Train loss: 0.558935] [Test loss: 0.551127] [Elapsed time: 0.17s]\n",
            "[Epoch  46/500] [Train loss: 0.555210] [Test loss: 0.547333] [Elapsed time: 0.17s]\n",
            "[Epoch  47/500] [Train loss: 0.551557] [Test loss: 0.543611] [Elapsed time: 0.18s]\n",
            "[Epoch  48/500] [Train loss: 0.547973] [Test loss: 0.539958] [Elapsed time: 0.18s]\n",
            "[Epoch  49/500] [Train loss: 0.544455] [Test loss: 0.536371] [Elapsed time: 0.18s]\n",
            "[Epoch  50/500] [Train loss: 0.541001] [Test loss: 0.532848] [Elapsed time: 0.18s]\n",
            "[Epoch  51/500] [Train loss: 0.537608] [Test loss: 0.529386] [Elapsed time: 0.18s]\n",
            "[Epoch  52/500] [Train loss: 0.534273] [Test loss: 0.525983] [Elapsed time: 0.19s]\n",
            "[Epoch  53/500] [Train loss: 0.530994] [Test loss: 0.522637] [Elapsed time: 0.19s]\n",
            "[Epoch  54/500] [Train loss: 0.527769] [Test loss: 0.519345] [Elapsed time: 0.19s]\n",
            "[Epoch  55/500] [Train loss: 0.524597] [Test loss: 0.516106] [Elapsed time: 0.19s]\n",
            "[Epoch  56/500] [Train loss: 0.521475] [Test loss: 0.512919] [Elapsed time: 0.19s]\n",
            "[Epoch  57/500] [Train loss: 0.518401] [Test loss: 0.509781] [Elapsed time: 0.19s]\n",
            "[Epoch  58/500] [Train loss: 0.515374] [Test loss: 0.506691] [Elapsed time: 0.20s]\n",
            "[Epoch  59/500] [Train loss: 0.512392] [Test loss: 0.503647] [Elapsed time: 0.20s]\n",
            "[Epoch  60/500] [Train loss: 0.509454] [Test loss: 0.500649] [Elapsed time: 0.20s]\n",
            "[Epoch  61/500] [Train loss: 0.506558] [Test loss: 0.497694] [Elapsed time: 0.20s]\n",
            "[Epoch  62/500] [Train loss: 0.503703] [Test loss: 0.494782] [Elapsed time: 0.20s]\n",
            "[Epoch  63/500] [Train loss: 0.500889] [Test loss: 0.491910] [Elapsed time: 0.21s]\n",
            "[Epoch  64/500] [Train loss: 0.498113] [Test loss: 0.489080] [Elapsed time: 0.21s]\n",
            "[Epoch  65/500] [Train loss: 0.495374] [Test loss: 0.486288] [Elapsed time: 0.21s]\n",
            "[Epoch  66/500] [Train loss: 0.492673] [Test loss: 0.483534] [Elapsed time: 0.21s]\n",
            "[Epoch  67/500] [Train loss: 0.490006] [Test loss: 0.480817] [Elapsed time: 0.21s]\n",
            "[Epoch  68/500] [Train loss: 0.487375] [Test loss: 0.478136] [Elapsed time: 0.22s]\n",
            "[Epoch  69/500] [Train loss: 0.484777] [Test loss: 0.475491] [Elapsed time: 0.22s]\n",
            "[Epoch  70/500] [Train loss: 0.482213] [Test loss: 0.472880] [Elapsed time: 0.22s]\n",
            "[Epoch  71/500] [Train loss: 0.479680] [Test loss: 0.470303] [Elapsed time: 0.22s]\n",
            "[Epoch  72/500] [Train loss: 0.477179] [Test loss: 0.467758] [Elapsed time: 0.23s]\n",
            "[Epoch  73/500] [Train loss: 0.474708] [Test loss: 0.465246] [Elapsed time: 0.23s]\n",
            "[Epoch  74/500] [Train loss: 0.472268] [Test loss: 0.462765] [Elapsed time: 0.23s]\n",
            "[Epoch  75/500] [Train loss: 0.469856] [Test loss: 0.460315] [Elapsed time: 0.23s]\n",
            "[Epoch  76/500] [Train loss: 0.467473] [Test loss: 0.457895] [Elapsed time: 0.24s]\n",
            "[Epoch  77/500] [Train loss: 0.465119] [Test loss: 0.455504] [Elapsed time: 0.24s]\n",
            "[Epoch  78/500] [Train loss: 0.462791] [Test loss: 0.453142] [Elapsed time: 0.24s]\n",
            "[Epoch  79/500] [Train loss: 0.460491] [Test loss: 0.450809] [Elapsed time: 0.24s]\n",
            "[Epoch  80/500] [Train loss: 0.458217] [Test loss: 0.448503] [Elapsed time: 0.24s]\n",
            "[Epoch  81/500] [Train loss: 0.455969] [Test loss: 0.446224] [Elapsed time: 0.25s]\n",
            "[Epoch  82/500] [Train loss: 0.453746] [Test loss: 0.443972] [Elapsed time: 0.25s]\n",
            "[Epoch  83/500] [Train loss: 0.451548] [Test loss: 0.441746] [Elapsed time: 0.25s]\n",
            "[Epoch  84/500] [Train loss: 0.449374] [Test loss: 0.439546] [Elapsed time: 0.25s]\n",
            "[Epoch  85/500] [Train loss: 0.447224] [Test loss: 0.437370] [Elapsed time: 0.25s]\n",
            "[Epoch  86/500] [Train loss: 0.445098] [Test loss: 0.435220] [Elapsed time: 0.26s]\n",
            "[Epoch  87/500] [Train loss: 0.442994] [Test loss: 0.433094] [Elapsed time: 0.26s]\n",
            "[Epoch  88/500] [Train loss: 0.440914] [Test loss: 0.430992] [Elapsed time: 0.26s]\n",
            "[Epoch  89/500] [Train loss: 0.438855] [Test loss: 0.428913] [Elapsed time: 0.26s]\n",
            "[Epoch  90/500] [Train loss: 0.436819] [Test loss: 0.426857] [Elapsed time: 0.26s]\n",
            "[Epoch  91/500] [Train loss: 0.434804] [Test loss: 0.424824] [Elapsed time: 0.27s]\n",
            "[Epoch  92/500] [Train loss: 0.432810] [Test loss: 0.422813] [Elapsed time: 0.27s]\n",
            "[Epoch  93/500] [Train loss: 0.430837] [Test loss: 0.420824] [Elapsed time: 0.27s]\n",
            "[Epoch  94/500] [Train loss: 0.428884] [Test loss: 0.418856] [Elapsed time: 0.27s]\n",
            "[Epoch  95/500] [Train loss: 0.426951] [Test loss: 0.416910] [Elapsed time: 0.27s]\n",
            "[Epoch  96/500] [Train loss: 0.425039] [Test loss: 0.414984] [Elapsed time: 0.28s]\n",
            "[Epoch  97/500] [Train loss: 0.423146] [Test loss: 0.413079] [Elapsed time: 0.28s]\n",
            "[Epoch  98/500] [Train loss: 0.421272] [Test loss: 0.411194] [Elapsed time: 0.28s]\n",
            "[Epoch  99/500] [Train loss: 0.419416] [Test loss: 0.409329] [Elapsed time: 0.28s]\n",
            "[Epoch 100/500] [Train loss: 0.417580] [Test loss: 0.407484] [Elapsed time: 0.28s]\n",
            "[Epoch 101/500] [Train loss: 0.415762] [Test loss: 0.405657] [Elapsed time: 0.29s]\n",
            "[Epoch 102/500] [Train loss: 0.413962] [Test loss: 0.403850] [Elapsed time: 0.29s]\n",
            "[Epoch 103/500] [Train loss: 0.412179] [Test loss: 0.402061] [Elapsed time: 0.29s]\n",
            "[Epoch 104/500] [Train loss: 0.410414] [Test loss: 0.400291] [Elapsed time: 0.30s]\n",
            "[Epoch 105/500] [Train loss: 0.408667] [Test loss: 0.398539] [Elapsed time: 0.31s]\n",
            "[Epoch 106/500] [Train loss: 0.406936] [Test loss: 0.396804] [Elapsed time: 0.31s]\n",
            "[Epoch 107/500] [Train loss: 0.405223] [Test loss: 0.395087] [Elapsed time: 0.32s]\n",
            "[Epoch 108/500] [Train loss: 0.403525] [Test loss: 0.393388] [Elapsed time: 0.32s]\n",
            "[Epoch 109/500] [Train loss: 0.401845] [Test loss: 0.391705] [Elapsed time: 0.32s]\n",
            "[Epoch 110/500] [Train loss: 0.400180] [Test loss: 0.390039] [Elapsed time: 0.32s]\n",
            "[Epoch 111/500] [Train loss: 0.398531] [Test loss: 0.388390] [Elapsed time: 0.33s]\n",
            "[Epoch 112/500] [Train loss: 0.396897] [Test loss: 0.386757] [Elapsed time: 0.33s]\n",
            "[Epoch 113/500] [Train loss: 0.395279] [Test loss: 0.385140] [Elapsed time: 0.33s]\n",
            "[Epoch 114/500] [Train loss: 0.393677] [Test loss: 0.383539] [Elapsed time: 0.33s]\n",
            "[Epoch 115/500] [Train loss: 0.392089] [Test loss: 0.381954] [Elapsed time: 0.34s]\n",
            "[Epoch 116/500] [Train loss: 0.390516] [Test loss: 0.380384] [Elapsed time: 0.34s]\n",
            "[Epoch 117/500] [Train loss: 0.388957] [Test loss: 0.378829] [Elapsed time: 0.34s]\n",
            "[Epoch 118/500] [Train loss: 0.387413] [Test loss: 0.377289] [Elapsed time: 0.34s]\n",
            "[Epoch 119/500] [Train loss: 0.385883] [Test loss: 0.375764] [Elapsed time: 0.34s]\n",
            "[Epoch 120/500] [Train loss: 0.384368] [Test loss: 0.374254] [Elapsed time: 0.35s]\n",
            "[Epoch 121/500] [Train loss: 0.382866] [Test loss: 0.372758] [Elapsed time: 0.35s]\n",
            "[Epoch 122/500] [Train loss: 0.381377] [Test loss: 0.371276] [Elapsed time: 0.35s]\n",
            "[Epoch 123/500] [Train loss: 0.379902] [Test loss: 0.369808] [Elapsed time: 0.36s]\n",
            "[Epoch 124/500] [Train loss: 0.378441] [Test loss: 0.368354] [Elapsed time: 0.36s]\n",
            "[Epoch 125/500] [Train loss: 0.376992] [Test loss: 0.366913] [Elapsed time: 0.36s]\n",
            "[Epoch 126/500] [Train loss: 0.375557] [Test loss: 0.365486] [Elapsed time: 0.36s]\n",
            "[Epoch 127/500] [Train loss: 0.374134] [Test loss: 0.364072] [Elapsed time: 0.36s]\n",
            "[Epoch 128/500] [Train loss: 0.372724] [Test loss: 0.362671] [Elapsed time: 0.37s]\n",
            "[Epoch 129/500] [Train loss: 0.371326] [Test loss: 0.361283] [Elapsed time: 0.37s]\n",
            "[Epoch 130/500] [Train loss: 0.369940] [Test loss: 0.359908] [Elapsed time: 0.37s]\n",
            "[Epoch 131/500] [Train loss: 0.368567] [Test loss: 0.358545] [Elapsed time: 0.37s]\n",
            "[Epoch 132/500] [Train loss: 0.367206] [Test loss: 0.357195] [Elapsed time: 0.37s]\n",
            "[Epoch 133/500] [Train loss: 0.365856] [Test loss: 0.355856] [Elapsed time: 0.38s]\n",
            "[Epoch 134/500] [Train loss: 0.364519] [Test loss: 0.354530] [Elapsed time: 0.38s]\n",
            "[Epoch 135/500] [Train loss: 0.363192] [Test loss: 0.353216] [Elapsed time: 0.38s]\n",
            "[Epoch 136/500] [Train loss: 0.361878] [Test loss: 0.351914] [Elapsed time: 0.38s]\n",
            "[Epoch 137/500] [Train loss: 0.360574] [Test loss: 0.350623] [Elapsed time: 0.38s]\n",
            "[Epoch 138/500] [Train loss: 0.359282] [Test loss: 0.349344] [Elapsed time: 0.38s]\n",
            "[Epoch 139/500] [Train loss: 0.358000] [Test loss: 0.348075] [Elapsed time: 0.39s]\n",
            "[Epoch 140/500] [Train loss: 0.356730] [Test loss: 0.346819] [Elapsed time: 0.39s]\n",
            "[Epoch 141/500] [Train loss: 0.355470] [Test loss: 0.345573] [Elapsed time: 0.39s]\n",
            "[Epoch 142/500] [Train loss: 0.354220] [Test loss: 0.344338] [Elapsed time: 0.39s]\n",
            "[Epoch 143/500] [Train loss: 0.352981] [Test loss: 0.343113] [Elapsed time: 0.39s]\n",
            "[Epoch 144/500] [Train loss: 0.351753] [Test loss: 0.341900] [Elapsed time: 0.40s]\n",
            "[Epoch 145/500] [Train loss: 0.350535] [Test loss: 0.340697] [Elapsed time: 0.40s]\n",
            "[Epoch 146/500] [Train loss: 0.349326] [Test loss: 0.339504] [Elapsed time: 0.40s]\n",
            "[Epoch 147/500] [Train loss: 0.348128] [Test loss: 0.338321] [Elapsed time: 0.41s]\n",
            "[Epoch 148/500] [Train loss: 0.346940] [Test loss: 0.337149] [Elapsed time: 0.41s]\n",
            "[Epoch 149/500] [Train loss: 0.345761] [Test loss: 0.335986] [Elapsed time: 0.41s]\n",
            "[Epoch 150/500] [Train loss: 0.344592] [Test loss: 0.334834] [Elapsed time: 0.41s]\n",
            "[Epoch 151/500] [Train loss: 0.343433] [Test loss: 0.333691] [Elapsed time: 0.41s]\n",
            "[Epoch 152/500] [Train loss: 0.342282] [Test loss: 0.332557] [Elapsed time: 0.42s]\n",
            "[Epoch 153/500] [Train loss: 0.341142] [Test loss: 0.331433] [Elapsed time: 0.42s]\n",
            "[Epoch 154/500] [Train loss: 0.340010] [Test loss: 0.330319] [Elapsed time: 0.42s]\n",
            "[Epoch 155/500] [Train loss: 0.338887] [Test loss: 0.329214] [Elapsed time: 0.42s]\n",
            "[Epoch 156/500] [Train loss: 0.337774] [Test loss: 0.328118] [Elapsed time: 0.42s]\n",
            "[Epoch 157/500] [Train loss: 0.336669] [Test loss: 0.327031] [Elapsed time: 0.42s]\n",
            "[Epoch 158/500] [Train loss: 0.335573] [Test loss: 0.325953] [Elapsed time: 0.43s]\n",
            "[Epoch 159/500] [Train loss: 0.334485] [Test loss: 0.324883] [Elapsed time: 0.43s]\n",
            "[Epoch 160/500] [Train loss: 0.333406] [Test loss: 0.323823] [Elapsed time: 0.43s]\n",
            "[Epoch 161/500] [Train loss: 0.332336] [Test loss: 0.322771] [Elapsed time: 0.43s]\n",
            "[Epoch 162/500] [Train loss: 0.331274] [Test loss: 0.321727] [Elapsed time: 0.43s]\n",
            "[Epoch 163/500] [Train loss: 0.330220] [Test loss: 0.320692] [Elapsed time: 0.44s]\n",
            "[Epoch 164/500] [Train loss: 0.329175] [Test loss: 0.319666] [Elapsed time: 0.44s]\n",
            "[Epoch 165/500] [Train loss: 0.328137] [Test loss: 0.318647] [Elapsed time: 0.44s]\n",
            "[Epoch 166/500] [Train loss: 0.327108] [Test loss: 0.317637] [Elapsed time: 0.44s]\n",
            "[Epoch 167/500] [Train loss: 0.326086] [Test loss: 0.316635] [Elapsed time: 0.44s]\n",
            "[Epoch 168/500] [Train loss: 0.325072] [Test loss: 0.315640] [Elapsed time: 0.45s]\n",
            "[Epoch 169/500] [Train loss: 0.324066] [Test loss: 0.314654] [Elapsed time: 0.45s]\n",
            "[Epoch 170/500] [Train loss: 0.323068] [Test loss: 0.313675] [Elapsed time: 0.45s]\n",
            "[Epoch 171/500] [Train loss: 0.322077] [Test loss: 0.312704] [Elapsed time: 0.45s]\n",
            "[Epoch 172/500] [Train loss: 0.321094] [Test loss: 0.311740] [Elapsed time: 0.45s]\n",
            "[Epoch 173/500] [Train loss: 0.320118] [Test loss: 0.310784] [Elapsed time: 0.46s]\n",
            "[Epoch 174/500] [Train loss: 0.319149] [Test loss: 0.309836] [Elapsed time: 0.46s]\n",
            "[Epoch 175/500] [Train loss: 0.318188] [Test loss: 0.308895] [Elapsed time: 0.46s]\n",
            "[Epoch 176/500] [Train loss: 0.317233] [Test loss: 0.307960] [Elapsed time: 0.46s]\n",
            "[Epoch 177/500] [Train loss: 0.316286] [Test loss: 0.307034] [Elapsed time: 0.46s]\n",
            "[Epoch 178/500] [Train loss: 0.315346] [Test loss: 0.306114] [Elapsed time: 0.46s]\n",
            "[Epoch 179/500] [Train loss: 0.314413] [Test loss: 0.305201] [Elapsed time: 0.47s]\n",
            "[Epoch 180/500] [Train loss: 0.313486] [Test loss: 0.304295] [Elapsed time: 0.47s]\n",
            "[Epoch 181/500] [Train loss: 0.312566] [Test loss: 0.303396] [Elapsed time: 0.47s]\n",
            "[Epoch 182/500] [Train loss: 0.311653] [Test loss: 0.302504] [Elapsed time: 0.47s]\n",
            "[Epoch 183/500] [Train loss: 0.310747] [Test loss: 0.301618] [Elapsed time: 0.47s]\n",
            "[Epoch 184/500] [Train loss: 0.309847] [Test loss: 0.300739] [Elapsed time: 0.48s]\n",
            "[Epoch 185/500] [Train loss: 0.308954] [Test loss: 0.299867] [Elapsed time: 0.48s]\n",
            "[Epoch 186/500] [Train loss: 0.308067] [Test loss: 0.299001] [Elapsed time: 0.48s]\n",
            "[Epoch 187/500] [Train loss: 0.307186] [Test loss: 0.298142] [Elapsed time: 0.48s]\n",
            "[Epoch 188/500] [Train loss: 0.306312] [Test loss: 0.297288] [Elapsed time: 0.48s]\n",
            "[Epoch 189/500] [Train loss: 0.305444] [Test loss: 0.296441] [Elapsed time: 0.49s]\n",
            "[Epoch 190/500] [Train loss: 0.304582] [Test loss: 0.295601] [Elapsed time: 0.49s]\n",
            "[Epoch 191/500] [Train loss: 0.303726] [Test loss: 0.294766] [Elapsed time: 0.49s]\n",
            "[Epoch 192/500] [Train loss: 0.302877] [Test loss: 0.293938] [Elapsed time: 0.49s]\n",
            "[Epoch 193/500] [Train loss: 0.302033] [Test loss: 0.293115] [Elapsed time: 0.49s]\n",
            "[Epoch 194/500] [Train loss: 0.301195] [Test loss: 0.292299] [Elapsed time: 0.49s]\n",
            "[Epoch 195/500] [Train loss: 0.300363] [Test loss: 0.291488] [Elapsed time: 0.50s]\n",
            "[Epoch 196/500] [Train loss: 0.299537] [Test loss: 0.290683] [Elapsed time: 0.51s]\n",
            "[Epoch 197/500] [Train loss: 0.298716] [Test loss: 0.289884] [Elapsed time: 0.51s]\n",
            "[Epoch 198/500] [Train loss: 0.297901] [Test loss: 0.289091] [Elapsed time: 0.51s]\n",
            "[Epoch 199/500] [Train loss: 0.297092] [Test loss: 0.288303] [Elapsed time: 0.51s]\n",
            "[Epoch 200/500] [Train loss: 0.296288] [Test loss: 0.287521] [Elapsed time: 0.52s]\n",
            "[Epoch 201/500] [Train loss: 0.295490] [Test loss: 0.286744] [Elapsed time: 0.52s]\n",
            "[Epoch 202/500] [Train loss: 0.294697] [Test loss: 0.285973] [Elapsed time: 0.52s]\n",
            "[Epoch 203/500] [Train loss: 0.293909] [Test loss: 0.285207] [Elapsed time: 0.53s]\n",
            "[Epoch 204/500] [Train loss: 0.293127] [Test loss: 0.284446] [Elapsed time: 0.53s]\n",
            "[Epoch 205/500] [Train loss: 0.292351] [Test loss: 0.283691] [Elapsed time: 0.53s]\n",
            "[Epoch 206/500] [Train loss: 0.291579] [Test loss: 0.282941] [Elapsed time: 0.53s]\n",
            "[Epoch 207/500] [Train loss: 0.290812] [Test loss: 0.282196] [Elapsed time: 0.54s]\n",
            "[Epoch 208/500] [Train loss: 0.290051] [Test loss: 0.281457] [Elapsed time: 0.54s]\n",
            "[Epoch 209/500] [Train loss: 0.289295] [Test loss: 0.280722] [Elapsed time: 0.54s]\n",
            "[Epoch 210/500] [Train loss: 0.288544] [Test loss: 0.279992] [Elapsed time: 0.54s]\n",
            "[Epoch 211/500] [Train loss: 0.287797] [Test loss: 0.279268] [Elapsed time: 0.54s]\n",
            "[Epoch 212/500] [Train loss: 0.287056] [Test loss: 0.278548] [Elapsed time: 0.55s]\n",
            "[Epoch 213/500] [Train loss: 0.286319] [Test loss: 0.277833] [Elapsed time: 0.55s]\n",
            "[Epoch 214/500] [Train loss: 0.285588] [Test loss: 0.277123] [Elapsed time: 0.55s]\n",
            "[Epoch 215/500] [Train loss: 0.284861] [Test loss: 0.276418] [Elapsed time: 0.55s]\n",
            "[Epoch 216/500] [Train loss: 0.284139] [Test loss: 0.275718] [Elapsed time: 0.55s]\n",
            "[Epoch 217/500] [Train loss: 0.283421] [Test loss: 0.275022] [Elapsed time: 0.56s]\n",
            "[Epoch 218/500] [Train loss: 0.282708] [Test loss: 0.274331] [Elapsed time: 0.56s]\n",
            "[Epoch 219/500] [Train loss: 0.282000] [Test loss: 0.273644] [Elapsed time: 0.56s]\n",
            "[Epoch 220/500] [Train loss: 0.281296] [Test loss: 0.272962] [Elapsed time: 0.56s]\n",
            "[Epoch 221/500] [Train loss: 0.280597] [Test loss: 0.272285] [Elapsed time: 0.56s]\n",
            "[Epoch 222/500] [Train loss: 0.279902] [Test loss: 0.271612] [Elapsed time: 0.57s]\n",
            "[Epoch 223/500] [Train loss: 0.279212] [Test loss: 0.270943] [Elapsed time: 0.57s]\n",
            "[Epoch 224/500] [Train loss: 0.278526] [Test loss: 0.270279] [Elapsed time: 0.57s]\n",
            "[Epoch 225/500] [Train loss: 0.277844] [Test loss: 0.269619] [Elapsed time: 0.57s]\n",
            "[Epoch 226/500] [Train loss: 0.277167] [Test loss: 0.268963] [Elapsed time: 0.57s]\n",
            "[Epoch 227/500] [Train loss: 0.276494] [Test loss: 0.268312] [Elapsed time: 0.58s]\n",
            "[Epoch 228/500] [Train loss: 0.275825] [Test loss: 0.267664] [Elapsed time: 0.58s]\n",
            "[Epoch 229/500] [Train loss: 0.275161] [Test loss: 0.267021] [Elapsed time: 0.58s]\n",
            "[Epoch 230/500] [Train loss: 0.274500] [Test loss: 0.266382] [Elapsed time: 0.58s]\n",
            "[Epoch 231/500] [Train loss: 0.273844] [Test loss: 0.265747] [Elapsed time: 0.58s]\n",
            "[Epoch 232/500] [Train loss: 0.273191] [Test loss: 0.265117] [Elapsed time: 0.59s]\n",
            "[Epoch 233/500] [Train loss: 0.272543] [Test loss: 0.264490] [Elapsed time: 0.59s]\n",
            "[Epoch 234/500] [Train loss: 0.271898] [Test loss: 0.263867] [Elapsed time: 0.59s]\n",
            "[Epoch 235/500] [Train loss: 0.271258] [Test loss: 0.263248] [Elapsed time: 0.59s]\n",
            "[Epoch 236/500] [Train loss: 0.270621] [Test loss: 0.262633] [Elapsed time: 0.59s]\n",
            "[Epoch 237/500] [Train loss: 0.269989] [Test loss: 0.262022] [Elapsed time: 0.60s]\n",
            "[Epoch 238/500] [Train loss: 0.269360] [Test loss: 0.261414] [Elapsed time: 0.60s]\n",
            "[Epoch 239/500] [Train loss: 0.268735] [Test loss: 0.260811] [Elapsed time: 0.60s]\n",
            "[Epoch 240/500] [Train loss: 0.268114] [Test loss: 0.260211] [Elapsed time: 0.60s]\n",
            "[Epoch 241/500] [Train loss: 0.267496] [Test loss: 0.259615] [Elapsed time: 0.60s]\n",
            "[Epoch 242/500] [Train loss: 0.266883] [Test loss: 0.259023] [Elapsed time: 0.61s]\n",
            "[Epoch 243/500] [Train loss: 0.266272] [Test loss: 0.258434] [Elapsed time: 0.61s]\n",
            "[Epoch 244/500] [Train loss: 0.265666] [Test loss: 0.257849] [Elapsed time: 0.61s]\n",
            "[Epoch 245/500] [Train loss: 0.265063] [Test loss: 0.257267] [Elapsed time: 0.61s]\n",
            "[Epoch 246/500] [Train loss: 0.264464] [Test loss: 0.256689] [Elapsed time: 0.61s]\n",
            "[Epoch 247/500] [Train loss: 0.263868] [Test loss: 0.256114] [Elapsed time: 0.61s]\n",
            "[Epoch 248/500] [Train loss: 0.263276] [Test loss: 0.255543] [Elapsed time: 0.62s]\n",
            "[Epoch 249/500] [Train loss: 0.262687] [Test loss: 0.254976] [Elapsed time: 0.62s]\n",
            "[Epoch 250/500] [Train loss: 0.262102] [Test loss: 0.254412] [Elapsed time: 0.62s]\n",
            "[Epoch 251/500] [Train loss: 0.261520] [Test loss: 0.253851] [Elapsed time: 0.62s]\n",
            "[Epoch 252/500] [Train loss: 0.260941] [Test loss: 0.253293] [Elapsed time: 0.62s]\n",
            "[Epoch 253/500] [Train loss: 0.260366] [Test loss: 0.252739] [Elapsed time: 0.63s]\n",
            "[Epoch 254/500] [Train loss: 0.259794] [Test loss: 0.252188] [Elapsed time: 0.63s]\n",
            "[Epoch 255/500] [Train loss: 0.259225] [Test loss: 0.251641] [Elapsed time: 0.63s]\n",
            "[Epoch 256/500] [Train loss: 0.258660] [Test loss: 0.251096] [Elapsed time: 0.63s]\n",
            "[Epoch 257/500] [Train loss: 0.258098] [Test loss: 0.250555] [Elapsed time: 0.63s]\n",
            "[Epoch 258/500] [Train loss: 0.257539] [Test loss: 0.250017] [Elapsed time: 0.63s]\n",
            "[Epoch 259/500] [Train loss: 0.256984] [Test loss: 0.249483] [Elapsed time: 0.64s]\n",
            "[Epoch 260/500] [Train loss: 0.256431] [Test loss: 0.248951] [Elapsed time: 0.64s]\n",
            "[Epoch 261/500] [Train loss: 0.255882] [Test loss: 0.248422] [Elapsed time: 0.64s]\n",
            "[Epoch 262/500] [Train loss: 0.255335] [Test loss: 0.247897] [Elapsed time: 0.64s]\n",
            "[Epoch 263/500] [Train loss: 0.254792] [Test loss: 0.247375] [Elapsed time: 0.64s]\n",
            "[Epoch 264/500] [Train loss: 0.254252] [Test loss: 0.246855] [Elapsed time: 0.65s]\n",
            "[Epoch 265/500] [Train loss: 0.253715] [Test loss: 0.246339] [Elapsed time: 0.65s]\n",
            "[Epoch 266/500] [Train loss: 0.253181] [Test loss: 0.245825] [Elapsed time: 0.65s]\n",
            "[Epoch 267/500] [Train loss: 0.252650] [Test loss: 0.245315] [Elapsed time: 0.66s]\n",
            "[Epoch 268/500] [Train loss: 0.252121] [Test loss: 0.244807] [Elapsed time: 0.66s]\n",
            "[Epoch 269/500] [Train loss: 0.251596] [Test loss: 0.244302] [Elapsed time: 0.66s]\n",
            "[Epoch 270/500] [Train loss: 0.251074] [Test loss: 0.243801] [Elapsed time: 0.67s]\n",
            "[Epoch 271/500] [Train loss: 0.250554] [Test loss: 0.243302] [Elapsed time: 0.67s]\n",
            "[Epoch 272/500] [Train loss: 0.250037] [Test loss: 0.242805] [Elapsed time: 0.67s]\n",
            "[Epoch 273/500] [Train loss: 0.249524] [Test loss: 0.242312] [Elapsed time: 0.68s]\n",
            "[Epoch 274/500] [Train loss: 0.249013] [Test loss: 0.241821] [Elapsed time: 0.68s]\n",
            "[Epoch 275/500] [Train loss: 0.248504] [Test loss: 0.241333] [Elapsed time: 0.68s]\n",
            "[Epoch 276/500] [Train loss: 0.247999] [Test loss: 0.240848] [Elapsed time: 0.68s]\n",
            "[Epoch 277/500] [Train loss: 0.247496] [Test loss: 0.240366] [Elapsed time: 0.68s]\n",
            "[Epoch 278/500] [Train loss: 0.246996] [Test loss: 0.239886] [Elapsed time: 0.69s]\n",
            "[Epoch 279/500] [Train loss: 0.246499] [Test loss: 0.239409] [Elapsed time: 0.69s]\n",
            "[Epoch 280/500] [Train loss: 0.246004] [Test loss: 0.238934] [Elapsed time: 0.69s]\n",
            "[Epoch 281/500] [Train loss: 0.245512] [Test loss: 0.238462] [Elapsed time: 0.69s]\n",
            "[Epoch 282/500] [Train loss: 0.245022] [Test loss: 0.237993] [Elapsed time: 0.69s]\n",
            "[Epoch 283/500] [Train loss: 0.244536] [Test loss: 0.237526] [Elapsed time: 0.70s]\n",
            "[Epoch 284/500] [Train loss: 0.244051] [Test loss: 0.237062] [Elapsed time: 0.70s]\n",
            "[Epoch 285/500] [Train loss: 0.243570] [Test loss: 0.236600] [Elapsed time: 0.70s]\n",
            "[Epoch 286/500] [Train loss: 0.243090] [Test loss: 0.236141] [Elapsed time: 0.70s]\n",
            "[Epoch 287/500] [Train loss: 0.242614] [Test loss: 0.235684] [Elapsed time: 0.71s]\n",
            "[Epoch 288/500] [Train loss: 0.242140] [Test loss: 0.235230] [Elapsed time: 0.71s]\n",
            "[Epoch 289/500] [Train loss: 0.241668] [Test loss: 0.234778] [Elapsed time: 0.71s]\n",
            "[Epoch 290/500] [Train loss: 0.241199] [Test loss: 0.234329] [Elapsed time: 0.72s]\n",
            "[Epoch 291/500] [Train loss: 0.240732] [Test loss: 0.233882] [Elapsed time: 0.72s]\n",
            "[Epoch 292/500] [Train loss: 0.240268] [Test loss: 0.233438] [Elapsed time: 0.72s]\n",
            "[Epoch 293/500] [Train loss: 0.239806] [Test loss: 0.232995] [Elapsed time: 0.72s]\n",
            "[Epoch 294/500] [Train loss: 0.239346] [Test loss: 0.232555] [Elapsed time: 0.72s]\n",
            "[Epoch 295/500] [Train loss: 0.238889] [Test loss: 0.232118] [Elapsed time: 0.72s]\n",
            "[Epoch 296/500] [Train loss: 0.238434] [Test loss: 0.231683] [Elapsed time: 0.73s]\n",
            "[Epoch 297/500] [Train loss: 0.237982] [Test loss: 0.231250] [Elapsed time: 0.73s]\n",
            "[Epoch 298/500] [Train loss: 0.237531] [Test loss: 0.230819] [Elapsed time: 0.73s]\n",
            "[Epoch 299/500] [Train loss: 0.237084] [Test loss: 0.230391] [Elapsed time: 0.73s]\n",
            "[Epoch 300/500] [Train loss: 0.236638] [Test loss: 0.229964] [Elapsed time: 0.73s]\n",
            "[Epoch 301/500] [Train loss: 0.236194] [Test loss: 0.229540] [Elapsed time: 0.74s]\n",
            "[Epoch 302/500] [Train loss: 0.235753] [Test loss: 0.229119] [Elapsed time: 0.74s]\n",
            "[Epoch 303/500] [Train loss: 0.235314] [Test loss: 0.228699] [Elapsed time: 0.74s]\n",
            "[Epoch 304/500] [Train loss: 0.234878] [Test loss: 0.228282] [Elapsed time: 0.74s]\n",
            "[Epoch 305/500] [Train loss: 0.234443] [Test loss: 0.227866] [Elapsed time: 0.74s]\n",
            "[Epoch 306/500] [Train loss: 0.234011] [Test loss: 0.227453] [Elapsed time: 0.75s]\n",
            "[Epoch 307/500] [Train loss: 0.233580] [Test loss: 0.227042] [Elapsed time: 0.75s]\n",
            "[Epoch 308/500] [Train loss: 0.233152] [Test loss: 0.226633] [Elapsed time: 0.75s]\n",
            "[Epoch 309/500] [Train loss: 0.232726] [Test loss: 0.226226] [Elapsed time: 0.75s]\n",
            "[Epoch 310/500] [Train loss: 0.232303] [Test loss: 0.225822] [Elapsed time: 0.75s]\n",
            "[Epoch 311/500] [Train loss: 0.231881] [Test loss: 0.225419] [Elapsed time: 0.75s]\n",
            "[Epoch 312/500] [Train loss: 0.231461] [Test loss: 0.225018] [Elapsed time: 0.76s]\n",
            "[Epoch 313/500] [Train loss: 0.231043] [Test loss: 0.224619] [Elapsed time: 0.76s]\n",
            "[Epoch 314/500] [Train loss: 0.230628] [Test loss: 0.224223] [Elapsed time: 0.76s]\n",
            "[Epoch 315/500] [Train loss: 0.230214] [Test loss: 0.223828] [Elapsed time: 0.76s]\n",
            "[Epoch 316/500] [Train loss: 0.229803] [Test loss: 0.223435] [Elapsed time: 0.76s]\n",
            "[Epoch 317/500] [Train loss: 0.229393] [Test loss: 0.223045] [Elapsed time: 0.77s]\n",
            "[Epoch 318/500] [Train loss: 0.228985] [Test loss: 0.222656] [Elapsed time: 0.77s]\n",
            "[Epoch 319/500] [Train loss: 0.228580] [Test loss: 0.222269] [Elapsed time: 0.77s]\n",
            "[Epoch 320/500] [Train loss: 0.228176] [Test loss: 0.221884] [Elapsed time: 0.77s]\n",
            "[Epoch 321/500] [Train loss: 0.227774] [Test loss: 0.221501] [Elapsed time: 0.77s]\n",
            "[Epoch 322/500] [Train loss: 0.227374] [Test loss: 0.221120] [Elapsed time: 0.77s]\n",
            "[Epoch 323/500] [Train loss: 0.226976] [Test loss: 0.220740] [Elapsed time: 0.78s]\n",
            "[Epoch 324/500] [Train loss: 0.226580] [Test loss: 0.220363] [Elapsed time: 0.78s]\n",
            "[Epoch 325/500] [Train loss: 0.226186] [Test loss: 0.219987] [Elapsed time: 0.78s]\n",
            "[Epoch 326/500] [Train loss: 0.225794] [Test loss: 0.219613] [Elapsed time: 0.78s]\n",
            "[Epoch 327/500] [Train loss: 0.225404] [Test loss: 0.219241] [Elapsed time: 0.78s]\n",
            "[Epoch 328/500] [Train loss: 0.225015] [Test loss: 0.218871] [Elapsed time: 0.79s]\n",
            "[Epoch 329/500] [Train loss: 0.224628] [Test loss: 0.218503] [Elapsed time: 0.79s]\n",
            "[Epoch 330/500] [Train loss: 0.224243] [Test loss: 0.218136] [Elapsed time: 0.79s]\n",
            "[Epoch 331/500] [Train loss: 0.223860] [Test loss: 0.217771] [Elapsed time: 0.79s]\n",
            "[Epoch 332/500] [Train loss: 0.223479] [Test loss: 0.217408] [Elapsed time: 0.79s]\n",
            "[Epoch 333/500] [Train loss: 0.223099] [Test loss: 0.217047] [Elapsed time: 0.80s]\n",
            "[Epoch 334/500] [Train loss: 0.222721] [Test loss: 0.216687] [Elapsed time: 0.80s]\n",
            "[Epoch 335/500] [Train loss: 0.222345] [Test loss: 0.216329] [Elapsed time: 0.80s]\n",
            "[Epoch 336/500] [Train loss: 0.221971] [Test loss: 0.215973] [Elapsed time: 0.80s]\n",
            "[Epoch 337/500] [Train loss: 0.221598] [Test loss: 0.215619] [Elapsed time: 0.80s]\n",
            "[Epoch 338/500] [Train loss: 0.221227] [Test loss: 0.215266] [Elapsed time: 0.80s]\n",
            "[Epoch 339/500] [Train loss: 0.220858] [Test loss: 0.214915] [Elapsed time: 0.81s]\n",
            "[Epoch 340/500] [Train loss: 0.220491] [Test loss: 0.214565] [Elapsed time: 0.81s]\n",
            "[Epoch 341/500] [Train loss: 0.220125] [Test loss: 0.214217] [Elapsed time: 0.81s]\n",
            "[Epoch 342/500] [Train loss: 0.219761] [Test loss: 0.213871] [Elapsed time: 0.81s]\n",
            "[Epoch 343/500] [Train loss: 0.219398] [Test loss: 0.213526] [Elapsed time: 0.81s]\n",
            "[Epoch 344/500] [Train loss: 0.219037] [Test loss: 0.213183] [Elapsed time: 0.82s]\n",
            "[Epoch 345/500] [Train loss: 0.218678] [Test loss: 0.212842] [Elapsed time: 0.82s]\n",
            "[Epoch 346/500] [Train loss: 0.218320] [Test loss: 0.212502] [Elapsed time: 0.82s]\n",
            "[Epoch 347/500] [Train loss: 0.217964] [Test loss: 0.212163] [Elapsed time: 0.82s]\n",
            "[Epoch 348/500] [Train loss: 0.217610] [Test loss: 0.211827] [Elapsed time: 0.82s]\n",
            "[Epoch 349/500] [Train loss: 0.217257] [Test loss: 0.211492] [Elapsed time: 0.83s]\n",
            "[Epoch 350/500] [Train loss: 0.216906] [Test loss: 0.211158] [Elapsed time: 0.83s]\n",
            "[Epoch 351/500] [Train loss: 0.216556] [Test loss: 0.210826] [Elapsed time: 0.83s]\n",
            "[Epoch 352/500] [Train loss: 0.216208] [Test loss: 0.210495] [Elapsed time: 0.83s]\n",
            "[Epoch 353/500] [Train loss: 0.215861] [Test loss: 0.210166] [Elapsed time: 0.83s]\n",
            "[Epoch 354/500] [Train loss: 0.215516] [Test loss: 0.209838] [Elapsed time: 0.83s]\n",
            "[Epoch 355/500] [Train loss: 0.215172] [Test loss: 0.209512] [Elapsed time: 0.84s]\n",
            "[Epoch 356/500] [Train loss: 0.214830] [Test loss: 0.209188] [Elapsed time: 0.84s]\n",
            "[Epoch 357/500] [Train loss: 0.214490] [Test loss: 0.208864] [Elapsed time: 0.84s]\n",
            "[Epoch 358/500] [Train loss: 0.214151] [Test loss: 0.208543] [Elapsed time: 0.84s]\n",
            "[Epoch 359/500] [Train loss: 0.213813] [Test loss: 0.208222] [Elapsed time: 0.84s]\n",
            "[Epoch 360/500] [Train loss: 0.213477] [Test loss: 0.207903] [Elapsed time: 0.85s]\n",
            "[Epoch 361/500] [Train loss: 0.213142] [Test loss: 0.207586] [Elapsed time: 0.85s]\n",
            "[Epoch 362/500] [Train loss: 0.212809] [Test loss: 0.207270] [Elapsed time: 0.85s]\n",
            "[Epoch 363/500] [Train loss: 0.212477] [Test loss: 0.206955] [Elapsed time: 0.85s]\n",
            "[Epoch 364/500] [Train loss: 0.212147] [Test loss: 0.206642] [Elapsed time: 0.85s]\n",
            "[Epoch 365/500] [Train loss: 0.211818] [Test loss: 0.206330] [Elapsed time: 0.86s]\n",
            "[Epoch 366/500] [Train loss: 0.211490] [Test loss: 0.206020] [Elapsed time: 0.86s]\n",
            "[Epoch 367/500] [Train loss: 0.211164] [Test loss: 0.205711] [Elapsed time: 0.86s]\n",
            "[Epoch 368/500] [Train loss: 0.210840] [Test loss: 0.205403] [Elapsed time: 0.86s]\n",
            "[Epoch 369/500] [Train loss: 0.210516] [Test loss: 0.205097] [Elapsed time: 0.86s]\n",
            "[Epoch 370/500] [Train loss: 0.210194] [Test loss: 0.204792] [Elapsed time: 0.86s]\n",
            "[Epoch 371/500] [Train loss: 0.209874] [Test loss: 0.204488] [Elapsed time: 0.87s]\n",
            "[Epoch 372/500] [Train loss: 0.209554] [Test loss: 0.204185] [Elapsed time: 0.87s]\n",
            "[Epoch 373/500] [Train loss: 0.209236] [Test loss: 0.203884] [Elapsed time: 0.87s]\n",
            "[Epoch 374/500] [Train loss: 0.208920] [Test loss: 0.203585] [Elapsed time: 0.87s]\n",
            "[Epoch 375/500] [Train loss: 0.208605] [Test loss: 0.203286] [Elapsed time: 0.87s]\n",
            "[Epoch 376/500] [Train loss: 0.208291] [Test loss: 0.202989] [Elapsed time: 0.88s]\n",
            "[Epoch 377/500] [Train loss: 0.207978] [Test loss: 0.202693] [Elapsed time: 0.88s]\n",
            "[Epoch 378/500] [Train loss: 0.207667] [Test loss: 0.202398] [Elapsed time: 0.88s]\n",
            "[Epoch 379/500] [Train loss: 0.207357] [Test loss: 0.202105] [Elapsed time: 0.88s]\n",
            "[Epoch 380/500] [Train loss: 0.207048] [Test loss: 0.201813] [Elapsed time: 0.88s]\n",
            "[Epoch 381/500] [Train loss: 0.206741] [Test loss: 0.201522] [Elapsed time: 0.88s]\n",
            "[Epoch 382/500] [Train loss: 0.206434] [Test loss: 0.201232] [Elapsed time: 0.89s]\n",
            "[Epoch 383/500] [Train loss: 0.206129] [Test loss: 0.200944] [Elapsed time: 0.89s]\n",
            "[Epoch 384/500] [Train loss: 0.205826] [Test loss: 0.200657] [Elapsed time: 0.89s]\n",
            "[Epoch 385/500] [Train loss: 0.205523] [Test loss: 0.200371] [Elapsed time: 0.89s]\n",
            "[Epoch 386/500] [Train loss: 0.205222] [Test loss: 0.200086] [Elapsed time: 0.90s]\n",
            "[Epoch 387/500] [Train loss: 0.204922] [Test loss: 0.199802] [Elapsed time: 0.90s]\n",
            "[Epoch 388/500] [Train loss: 0.204624] [Test loss: 0.199520] [Elapsed time: 0.90s]\n",
            "[Epoch 389/500] [Train loss: 0.204326] [Test loss: 0.199239] [Elapsed time: 0.91s]\n",
            "[Epoch 390/500] [Train loss: 0.204030] [Test loss: 0.198959] [Elapsed time: 0.91s]\n",
            "[Epoch 391/500] [Train loss: 0.203735] [Test loss: 0.198680] [Elapsed time: 0.91s]\n",
            "[Epoch 392/500] [Train loss: 0.203441] [Test loss: 0.198402] [Elapsed time: 0.92s]\n",
            "[Epoch 393/500] [Train loss: 0.203148] [Test loss: 0.198126] [Elapsed time: 0.92s]\n",
            "[Epoch 394/500] [Train loss: 0.202856] [Test loss: 0.197850] [Elapsed time: 0.92s]\n",
            "[Epoch 395/500] [Train loss: 0.202566] [Test loss: 0.197576] [Elapsed time: 0.92s]\n",
            "[Epoch 396/500] [Train loss: 0.202277] [Test loss: 0.197303] [Elapsed time: 0.92s]\n",
            "[Epoch 397/500] [Train loss: 0.201989] [Test loss: 0.197031] [Elapsed time: 0.93s]\n",
            "[Epoch 398/500] [Train loss: 0.201702] [Test loss: 0.196760] [Elapsed time: 0.93s]\n",
            "[Epoch 399/500] [Train loss: 0.201416] [Test loss: 0.196490] [Elapsed time: 0.93s]\n",
            "[Epoch 400/500] [Train loss: 0.201131] [Test loss: 0.196221] [Elapsed time: 0.93s]\n",
            "[Epoch 401/500] [Train loss: 0.200848] [Test loss: 0.195954] [Elapsed time: 0.93s]\n",
            "[Epoch 402/500] [Train loss: 0.200565] [Test loss: 0.195687] [Elapsed time: 0.94s]\n",
            "[Epoch 403/500] [Train loss: 0.200284] [Test loss: 0.195422] [Elapsed time: 0.94s]\n",
            "[Epoch 404/500] [Train loss: 0.200004] [Test loss: 0.195158] [Elapsed time: 0.94s]\n",
            "[Epoch 405/500] [Train loss: 0.199725] [Test loss: 0.194894] [Elapsed time: 0.94s]\n",
            "[Epoch 406/500] [Train loss: 0.199447] [Test loss: 0.194632] [Elapsed time: 0.94s]\n",
            "[Epoch 407/500] [Train loss: 0.199170] [Test loss: 0.194371] [Elapsed time: 0.94s]\n",
            "[Epoch 408/500] [Train loss: 0.198894] [Test loss: 0.194111] [Elapsed time: 0.95s]\n",
            "[Epoch 409/500] [Train loss: 0.198619] [Test loss: 0.193852] [Elapsed time: 0.95s]\n",
            "[Epoch 410/500] [Train loss: 0.198346] [Test loss: 0.193594] [Elapsed time: 0.95s]\n",
            "[Epoch 411/500] [Train loss: 0.198073] [Test loss: 0.193337] [Elapsed time: 0.95s]\n",
            "[Epoch 412/500] [Train loss: 0.197801] [Test loss: 0.193081] [Elapsed time: 0.95s]\n",
            "[Epoch 413/500] [Train loss: 0.197531] [Test loss: 0.192826] [Elapsed time: 0.96s]\n",
            "[Epoch 414/500] [Train loss: 0.197261] [Test loss: 0.192572] [Elapsed time: 0.96s]\n",
            "[Epoch 415/500] [Train loss: 0.196993] [Test loss: 0.192319] [Elapsed time: 0.96s]\n",
            "[Epoch 416/500] [Train loss: 0.196726] [Test loss: 0.192067] [Elapsed time: 0.96s]\n",
            "[Epoch 417/500] [Train loss: 0.196459] [Test loss: 0.191816] [Elapsed time: 0.96s]\n",
            "[Epoch 418/500] [Train loss: 0.196194] [Test loss: 0.191566] [Elapsed time: 0.97s]\n",
            "[Epoch 419/500] [Train loss: 0.195929] [Test loss: 0.191317] [Elapsed time: 0.97s]\n",
            "[Epoch 420/500] [Train loss: 0.195666] [Test loss: 0.191069] [Elapsed time: 0.97s]\n",
            "[Epoch 421/500] [Train loss: 0.195404] [Test loss: 0.190822] [Elapsed time: 0.97s]\n",
            "[Epoch 422/500] [Train loss: 0.195142] [Test loss: 0.190576] [Elapsed time: 0.97s]\n",
            "[Epoch 423/500] [Train loss: 0.194882] [Test loss: 0.190331] [Elapsed time: 0.98s]\n",
            "[Epoch 424/500] [Train loss: 0.194622] [Test loss: 0.190086] [Elapsed time: 0.98s]\n",
            "[Epoch 425/500] [Train loss: 0.194364] [Test loss: 0.189843] [Elapsed time: 0.98s]\n",
            "[Epoch 426/500] [Train loss: 0.194106] [Test loss: 0.189601] [Elapsed time: 0.98s]\n",
            "[Epoch 427/500] [Train loss: 0.193850] [Test loss: 0.189360] [Elapsed time: 0.98s]\n",
            "[Epoch 428/500] [Train loss: 0.193594] [Test loss: 0.189119] [Elapsed time: 0.98s]\n",
            "[Epoch 429/500] [Train loss: 0.193340] [Test loss: 0.188880] [Elapsed time: 0.99s]\n",
            "[Epoch 430/500] [Train loss: 0.193086] [Test loss: 0.188641] [Elapsed time: 0.99s]\n",
            "[Epoch 431/500] [Train loss: 0.192833] [Test loss: 0.188403] [Elapsed time: 0.99s]\n",
            "[Epoch 432/500] [Train loss: 0.192582] [Test loss: 0.188167] [Elapsed time: 0.99s]\n",
            "[Epoch 433/500] [Train loss: 0.192331] [Test loss: 0.187931] [Elapsed time: 0.99s]\n",
            "[Epoch 434/500] [Train loss: 0.192081] [Test loss: 0.187696] [Elapsed time: 1.00s]\n",
            "[Epoch 435/500] [Train loss: 0.191832] [Test loss: 0.187462] [Elapsed time: 1.00s]\n",
            "[Epoch 436/500] [Train loss: 0.191584] [Test loss: 0.187228] [Elapsed time: 1.00s]\n",
            "[Epoch 437/500] [Train loss: 0.191336] [Test loss: 0.186996] [Elapsed time: 1.00s]\n",
            "[Epoch 438/500] [Train loss: 0.191090] [Test loss: 0.186765] [Elapsed time: 1.00s]\n",
            "[Epoch 439/500] [Train loss: 0.190845] [Test loss: 0.186534] [Elapsed time: 1.00s]\n",
            "[Epoch 440/500] [Train loss: 0.190600] [Test loss: 0.186304] [Elapsed time: 1.01s]\n",
            "[Epoch 441/500] [Train loss: 0.190357] [Test loss: 0.186076] [Elapsed time: 1.01s]\n",
            "[Epoch 442/500] [Train loss: 0.190114] [Test loss: 0.185848] [Elapsed time: 1.01s]\n",
            "[Epoch 443/500] [Train loss: 0.189872] [Test loss: 0.185620] [Elapsed time: 1.01s]\n",
            "[Epoch 444/500] [Train loss: 0.189631] [Test loss: 0.185394] [Elapsed time: 1.01s]\n",
            "[Epoch 445/500] [Train loss: 0.189391] [Test loss: 0.185169] [Elapsed time: 1.02s]\n",
            "[Epoch 446/500] [Train loss: 0.189152] [Test loss: 0.184944] [Elapsed time: 1.02s]\n",
            "[Epoch 447/500] [Train loss: 0.188913] [Test loss: 0.184720] [Elapsed time: 1.02s]\n",
            "[Epoch 448/500] [Train loss: 0.188676] [Test loss: 0.184497] [Elapsed time: 1.02s]\n",
            "[Epoch 449/500] [Train loss: 0.188439] [Test loss: 0.184275] [Elapsed time: 1.02s]\n",
            "[Epoch 450/500] [Train loss: 0.188203] [Test loss: 0.184054] [Elapsed time: 1.02s]\n",
            "[Epoch 451/500] [Train loss: 0.187968] [Test loss: 0.183833] [Elapsed time: 1.03s]\n",
            "[Epoch 452/500] [Train loss: 0.187734] [Test loss: 0.183614] [Elapsed time: 1.03s]\n",
            "[Epoch 453/500] [Train loss: 0.187501] [Test loss: 0.183395] [Elapsed time: 1.03s]\n",
            "[Epoch 454/500] [Train loss: 0.187268] [Test loss: 0.183177] [Elapsed time: 1.03s]\n",
            "[Epoch 455/500] [Train loss: 0.187036] [Test loss: 0.182959] [Elapsed time: 1.04s]\n",
            "[Epoch 456/500] [Train loss: 0.186805] [Test loss: 0.182743] [Elapsed time: 1.04s]\n",
            "[Epoch 457/500] [Train loss: 0.186575] [Test loss: 0.182527] [Elapsed time: 1.04s]\n",
            "[Epoch 458/500] [Train loss: 0.186346] [Test loss: 0.182312] [Elapsed time: 1.04s]\n",
            "[Epoch 459/500] [Train loss: 0.186118] [Test loss: 0.182098] [Elapsed time: 1.05s]\n",
            "[Epoch 460/500] [Train loss: 0.185890] [Test loss: 0.181885] [Elapsed time: 1.05s]\n",
            "[Epoch 461/500] [Train loss: 0.185663] [Test loss: 0.181672] [Elapsed time: 1.05s]\n",
            "[Epoch 462/500] [Train loss: 0.185437] [Test loss: 0.181460] [Elapsed time: 1.05s]\n",
            "[Epoch 463/500] [Train loss: 0.185212] [Test loss: 0.181249] [Elapsed time: 1.05s]\n",
            "[Epoch 464/500] [Train loss: 0.184987] [Test loss: 0.181039] [Elapsed time: 1.06s]\n",
            "[Epoch 465/500] [Train loss: 0.184763] [Test loss: 0.180829] [Elapsed time: 1.06s]\n",
            "[Epoch 466/500] [Train loss: 0.184540] [Test loss: 0.180620] [Elapsed time: 1.06s]\n",
            "[Epoch 467/500] [Train loss: 0.184318] [Test loss: 0.180412] [Elapsed time: 1.06s]\n",
            "[Epoch 468/500] [Train loss: 0.184097] [Test loss: 0.180205] [Elapsed time: 1.06s]\n",
            "[Epoch 469/500] [Train loss: 0.183876] [Test loss: 0.179998] [Elapsed time: 1.07s]\n",
            "[Epoch 470/500] [Train loss: 0.183656] [Test loss: 0.179792] [Elapsed time: 1.07s]\n",
            "[Epoch 471/500] [Train loss: 0.183437] [Test loss: 0.179587] [Elapsed time: 1.07s]\n",
            "[Epoch 472/500] [Train loss: 0.183219] [Test loss: 0.179382] [Elapsed time: 1.07s]\n",
            "[Epoch 473/500] [Train loss: 0.183001] [Test loss: 0.179179] [Elapsed time: 1.07s]\n",
            "[Epoch 474/500] [Train loss: 0.182784] [Test loss: 0.178976] [Elapsed time: 1.08s]\n",
            "[Epoch 475/500] [Train loss: 0.182568] [Test loss: 0.178773] [Elapsed time: 1.08s]\n",
            "[Epoch 476/500] [Train loss: 0.182352] [Test loss: 0.178572] [Elapsed time: 1.08s]\n",
            "[Epoch 477/500] [Train loss: 0.182138] [Test loss: 0.178371] [Elapsed time: 1.08s]\n",
            "[Epoch 478/500] [Train loss: 0.181923] [Test loss: 0.178171] [Elapsed time: 1.08s]\n",
            "[Epoch 479/500] [Train loss: 0.181710] [Test loss: 0.177971] [Elapsed time: 1.09s]\n",
            "[Epoch 480/500] [Train loss: 0.181498] [Test loss: 0.177772] [Elapsed time: 1.09s]\n",
            "[Epoch 481/500] [Train loss: 0.181286] [Test loss: 0.177574] [Elapsed time: 1.09s]\n",
            "[Epoch 482/500] [Train loss: 0.181075] [Test loss: 0.177377] [Elapsed time: 1.09s]\n",
            "[Epoch 483/500] [Train loss: 0.180864] [Test loss: 0.177180] [Elapsed time: 1.09s]\n",
            "[Epoch 484/500] [Train loss: 0.180654] [Test loss: 0.176984] [Elapsed time: 1.09s]\n",
            "[Epoch 485/500] [Train loss: 0.180445] [Test loss: 0.176788] [Elapsed time: 1.10s]\n",
            "[Epoch 486/500] [Train loss: 0.180237] [Test loss: 0.176594] [Elapsed time: 1.10s]\n",
            "[Epoch 487/500] [Train loss: 0.180029] [Test loss: 0.176400] [Elapsed time: 1.10s]\n",
            "[Epoch 488/500] [Train loss: 0.179822] [Test loss: 0.176206] [Elapsed time: 1.10s]\n",
            "[Epoch 489/500] [Train loss: 0.179616] [Test loss: 0.176013] [Elapsed time: 1.10s]\n",
            "[Epoch 490/500] [Train loss: 0.179410] [Test loss: 0.175821] [Elapsed time: 1.11s]\n",
            "[Epoch 491/500] [Train loss: 0.179205] [Test loss: 0.175630] [Elapsed time: 1.11s]\n",
            "[Epoch 492/500] [Train loss: 0.179001] [Test loss: 0.175439] [Elapsed time: 1.11s]\n",
            "[Epoch 493/500] [Train loss: 0.178797] [Test loss: 0.175249] [Elapsed time: 1.11s]\n",
            "[Epoch 494/500] [Train loss: 0.178594] [Test loss: 0.175059] [Elapsed time: 1.12s]\n",
            "[Epoch 495/500] [Train loss: 0.178392] [Test loss: 0.174871] [Elapsed time: 1.12s]\n",
            "[Epoch 496/500] [Train loss: 0.178190] [Test loss: 0.174682] [Elapsed time: 1.12s]\n",
            "[Epoch 497/500] [Train loss: 0.177989] [Test loss: 0.174495] [Elapsed time: 1.13s]\n",
            "[Epoch 498/500] [Train loss: 0.177789] [Test loss: 0.174308] [Elapsed time: 1.13s]\n",
            "[Epoch 499/500] [Train loss: 0.177589] [Test loss: 0.174121] [Elapsed time: 1.13s]\n",
            "[Epoch 500/500] [Train loss: 0.177390] [Test loss: 0.173936] [Elapsed time: 1.14s]\n"
          ]
        }
      ]
    },
    {
      "cell_type": "code",
      "source": [
        "opt_w = list(torch_model.parameters())[0].detach().cpu().numpy()[0]\n",
        "opt_b = -list(torch_model.parameters())[1].item()\n",
        "draw_state(opt_w, opt_b, data1, data2, 'Data and optimal boundary')"
      ],
      "metadata": {
        "colab": {
          "base_uri": "https://localhost:8080/",
          "height": 281
        },
        "id": "5Uji_CtiTGRl",
        "outputId": "892bcf3d-477b-4d16-e653-d1dac9b6dd5a"
      },
      "id": "5Uji_CtiTGRl",
      "execution_count": 14,
      "outputs": [
        {
          "output_type": "display_data",
          "data": {
            "text/plain": [
              "<Figure size 432x288 with 1 Axes>"
            ],
            "image/png": "[encoded data removed]"
          },
          "metadata": {
            "needs_background": "light"
          }
        }
      ]
    },
    {
      "cell_type": "code",
      "source": [
        "fig, ax = plt.subplots()\n",
        "ax.plot(train_history, 'b', label='train loss')\n",
        "ax.plot(test_history, 'r', label='test loss')\n",
        "ax.legend()"
      ],
      "metadata": {
        "colab": {
          "base_uri": "https://localhost:8080/",
          "height": 283
        },
        "id": "Z-lvdHPlTJ4-",
        "outputId": "4e21c788-84c4-410b-e7d4-96b19a1123d4"
      },
      "id": "Z-lvdHPlTJ4-",
      "execution_count": 16,
      "outputs": [
        {
          "output_type": "execute_result",
          "data": {
            "text/plain": [
              "<matplotlib.legend.Legend at 0x7f290f2de510>"
            ]
          },
          "metadata": {},
          "execution_count": 16
        },
        {
          "output_type": "display_data",
          "data": {
            "text/plain": [
              "<Figure size 432x288 with 1 Axes>"
            ],
            "image/png": "[encoded data removed]"
          },
          "metadata": {
            "needs_background": "light"
          }
        }
      ]
    },
    {
      "cell_type": "code",
      "source": [
        "with torch.no_grad():\n",
        "  output = torch_model(x_test_tensor).cpu()\n",
        "  output = np.round(output).cuda()\n",
        "print(f'Accuracy: {(sum(y_test_tensor == output) / output.size(0) * 100).item():.2f}%')"
      ],
      "metadata": {
        "colab": {
          "base_uri": "https://localhost:8080/"
        },
        "id": "ISyx0_-YT7Dm",
        "outputId": "766f698a-60bd-4c30-b4eb-bd85b728cdf3"
      },
      "id": "ISyx0_-YT7Dm",
      "execution_count": 17,
      "outputs": [
        {
          "output_type": "stream",
          "name": "stdout",
          "text": [
            "Accuracy: 97.00%\n"
          ]
        }
      ]
    }
  ],
  "metadata": {
    "kernelspec": {
      "display_name": "Python 3",
      "language": "python",
      "name": "python3"
    },
    "language_info": {
      "codemirror_mode": {
        "name": "ipython",
        "version": 3
      },
      "file_extension": ".py",
      "mimetype": "text/x-python",
      "name": "python",
      "nbconvert_exporter": "python",
      "pygments_lexer": "ipython3",
      "version": "3.8.10"
    },
    "colab": {
      "name": "Machine Learning Algorithms_1_pytorch",
      "provenance": [],
      "collapsed_sections": []
    },
    "accelerator": "GPU"
  },
  "nbformat": 4,
  "nbformat_minor": 5
}